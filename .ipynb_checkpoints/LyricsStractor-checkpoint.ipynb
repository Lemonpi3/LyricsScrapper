{
 "cells": [
  {
   "cell_type": "code",
   "execution_count": 1,
   "metadata": {},
   "outputs": [],
   "source": [
    "import requests\n",
    "from bs4 import BeautifulSoup\n",
    "import random\n",
    "import time"
   ]
  },
  {
   "cell_type": "code",
   "execution_count": 154,
   "metadata": {},
   "outputs": [],
   "source": [
    "base_site= \"https://www.azlyrics.com\"\n",
    "artist_site = \"https://www.azlyrics.com/s/scandroid.html\"\n",
    "\n",
    "response = requests.get(artist_site)\n",
    "html = response.content\n",
    "soup = BeautifulSoup(html,\"lxml\")  "
   ]
  },
  {
   "cell_type": "code",
   "execution_count": 155,
   "metadata": {},
   "outputs": [
    {
     "data": {
      "text/plain": [
       "[]"
      ]
     },
     "execution_count": 155,
     "metadata": {},
     "output_type": "execute_result"
    }
   ],
   "source": [
    "songs = soup.find_all(\"div\",{\"class\":\"listalbum-item\"})\n",
    "songs_links = [song.find(\"a\") for song in songs]\n",
    "songs_links = [song.get(\"href\") for song in songs_links if song]\n",
    "songs_links"
   ]
  },
  {
   "cell_type": "code",
   "execution_count": 89,
   "metadata": {},
   "outputs": [],
   "source": [
    "response = requests.get(base_site+songs_links[0])\n",
    "html = response.content\n",
    "soup = BeautifulSoup(html,\"lxml\")  "
   ]
  },
  {
   "cell_type": "code",
   "execution_count": 135,
   "metadata": {},
   "outputs": [
    {
     "data": {
      "text/plain": [
       "'\\n\\r\\nThe state of Man\\nAnd of machine\\nStreets of Japan\\n2517\\n2517\\n\\nThe fate of Man\\nAnd of machine\\nIt all began\\n2517\\n2517\\n'"
      ]
     },
     "execution_count": 135,
     "metadata": {},
     "output_type": "execute_result"
    }
   ],
   "source": [
    "divs = soup.find_all(\"div\",{\"class\":\"row\"})\n",
    "divs = divs[1].find(\"div\",{\"class\":\"col-xs-12 col-lg-8 text-center\"}) \n",
    "lyrics = divs.find_all(\"div\")[5].text"
   ]
  },
  {
   "cell_type": "code",
   "execution_count": 142,
   "metadata": {},
   "outputs": [],
   "source": [
    "songs_lyrics = []\n",
    "visited_links = []\n",
    "failed_songs = []\n",
    "def get_lyrics(songlink):\n",
    "    try:\n",
    "        if songlink in visited_links:\n",
    "            pass\n",
    "        response = requests.get(base_site+songlink)\n",
    "        html = response.content\n",
    "        soup = BeautifulSoup(html,\"lxml\")  \n",
    "        divs = soup.find_all(\"div\",{\"class\":\"row\"})\n",
    "        divs = divs[1].find(\"div\",{\"class\":\"col-xs-12 col-lg-8 text-center\"}) \n",
    "        lyrics = divs.find_all(\"div\")[5].text\n",
    "        songs_lyrics.append(lyrics)\n",
    "    except:\n",
    "        pass\n",
    "    else:\n",
    "        print(f\"Couldn't get lyrics from {songlink}\")\n",
    "        failed_songs.append(songlink)"
   ]
  },
  {
   "cell_type": "code",
   "execution_count": 148,
   "metadata": {},
   "outputs": [
    {
     "name": "stdout",
     "output_type": "stream",
     "text": [
      "Processing link 1 of 48\n",
      "Processing link 2 of 48\n",
      "Processing link 3 of 48\n",
      "Processing link 4 of 48\n",
      "Processing link 5 of 48\n",
      "Processing link 6 of 48\n",
      "Processing link 7 of 48\n",
      "Processing link 8 of 48\n",
      "Processing link 9 of 48\n",
      "Processing link 10 of 48\n",
      "Processing link 11 of 48\n",
      "Processing link 12 of 48\n",
      "Processing link 13 of 48\n",
      "Processing link 14 of 48\n",
      "Processing link 15 of 48\n",
      "Processing link 16 of 48\n",
      "Processing link 17 of 48\n",
      "Processing link 18 of 48\n",
      "Processing link 19 of 48\n",
      "Processing link 20 of 48\n",
      "Processing link 21 of 48\n",
      "Processing link 22 of 48\n",
      "Processing link 23 of 48\n",
      "Processing link 24 of 48\n",
      "Processing link 25 of 48\n",
      "Processing link 26 of 48\n",
      "Processing link 27 of 48\n",
      "Processing link 28 of 48\n",
      "Processing link 29 of 48\n",
      "Processing link 30 of 48\n",
      "Processing link 31 of 48\n",
      "Processing link 32 of 48\n",
      "Processing link 33 of 48\n",
      "Processing link 34 of 48\n",
      "Processing link 35 of 48\n",
      "Processing link 36 of 48\n",
      "Processing link 37 of 48\n",
      "Processing link 38 of 48\n",
      "Processing link 39 of 48\n",
      "Processing link 40 of 48\n",
      "Processing link 41 of 48\n",
      "Processing link 42 of 48\n",
      "Processing link 43 of 48\n",
      "Processing link 44 of 48\n",
      "Processing link 45 of 48\n",
      "Processing link 46 of 48\n",
      "Processing link 47 of 48\n",
      "Processing link 48 of 48\n"
     ]
    }
   ],
   "source": [
    "songs_lyrics = []\n",
    "visited_links = []\n",
    "failed_songs = []\n",
    "for link,i in zip(songs_links,range(len(songs_links))):\n",
    "    if i%5:\n",
    "        time.sleep(random.randrange(5))\n",
    "    print(f'Processing link {i+1} of {len(songs_links)}')\n",
    "    get_lyrics(link)"
   ]
  },
  {
   "cell_type": "code",
   "execution_count": 151,
   "metadata": {},
   "outputs": [],
   "source": [
    "with open(\"Output.txt\", \"wb\") as text_file:\n",
    "    for lyrics in songs_lyrics:\n",
    "        print(f\"{lyrics}\", file=text_file)"
   ]
  },
  {
   "cell_type": "code",
   "execution_count": 153,
   "metadata": {},
   "outputs": [
    {
     "data": {
      "text/plain": [
       "[]"
      ]
     },
     "execution_count": 153,
     "metadata": {},
     "output_type": "execute_result"
    }
   ],
   "source": [
    "visited_links"
   ]
  },
  {
   "cell_type": "code",
   "execution_count": null,
   "metadata": {},
   "outputs": [],
   "source": []
  }
 ],
 "metadata": {
  "kernelspec": {
   "display_name": "Python 3",
   "language": "python",
   "name": "python3"
  },
  "language_info": {
   "codemirror_mode": {
    "name": "ipython",
    "version": 3
   },
   "file_extension": ".py",
   "mimetype": "text/x-python",
   "name": "python",
   "nbconvert_exporter": "python",
   "pygments_lexer": "ipython3",
   "version": "3.7.6"
  }
 },
 "nbformat": 4,
 "nbformat_minor": 4
}
